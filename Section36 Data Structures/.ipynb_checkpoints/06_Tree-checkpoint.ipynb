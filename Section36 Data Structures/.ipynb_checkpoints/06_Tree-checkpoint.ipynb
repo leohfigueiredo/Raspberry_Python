{
 "cells": [
  {
   "cell_type": "code",
   "execution_count": 1,
   "metadata": {},
   "outputs": [],
   "source": [
    "myTree = ['a',   #root\n",
    "         ['b', # Left Subtree\n",
    "          ['d', [], []],\n",
    "          ['e', [], []] ],\n",
    "         ['c', # Right Subtree\n",
    "          ['f', [], []],\n",
    "         [] ]\n",
    "         ]"
   ]
  },
  {
   "cell_type": "code",
   "execution_count": 2,
   "metadata": {},
   "outputs": [
    {
     "name": "stdout",
     "output_type": "stream",
     "text": [
      "['a', ['b', ['d', [], []], ['e', [], []]], ['c', ['f', [], []], []]]\n"
     ]
    }
   ],
   "source": [
    "print(myTree)"
   ]
  },
  {
   "cell_type": "code",
   "execution_count": 3,
   "metadata": {},
   "outputs": [
    {
     "name": "stdout",
     "output_type": "stream",
     "text": [
      "Left Subtree =  ['b', ['d', [], []], ['e', [], []]]\n",
      "Root =  a\n",
      "Right Subtree =  ['c', ['f', [], []], []]\n"
     ]
    }
   ],
   "source": [
    "print('Left Subtree = ', myTree[1])\n",
    "print('Root = ', myTree[0])\n",
    "print('Right Subtree = ', myTree[2])"
   ]
  },
  {
   "cell_type": "code",
   "execution_count": 4,
   "metadata": {},
   "outputs": [
    {
     "name": "stdout",
     "output_type": "stream",
     "text": [
      "Root Element of Right Subtree =  c\n"
     ]
    }
   ],
   "source": [
    "print('Root Element of Right Subtree = ', myTree[2][0])"
   ]
  },
  {
   "cell_type": "code",
   "execution_count": null,
   "metadata": {},
   "outputs": [],
   "source": []
  }
 ],
 "metadata": {
  "kernelspec": {
   "display_name": "Python 3",
   "language": "python",
   "name": "python3"
  },
  "language_info": {
   "codemirror_mode": {
    "name": "ipython",
    "version": 3
   },
   "file_extension": ".py",
   "mimetype": "text/x-python",
   "name": "python",
   "nbconvert_exporter": "python",
   "pygments_lexer": "ipython3",
   "version": "3.7.3"
  }
 },
 "nbformat": 4,
 "nbformat_minor": 2
}
