{
 "cells": [
  {
   "cell_type": "code",
   "execution_count": null,
   "metadata": {},
   "outputs": [],
   "source": [
    "!pip3 install toyplot"
   ]
  },
  {
   "cell_type": "code",
   "execution_count": null,
   "metadata": {},
   "outputs": [],
   "source": [
    "import numpy, toyplot"
   ]
  },
  {
   "cell_type": "code",
   "execution_count": null,
   "metadata": {},
   "outputs": [],
   "source": [
    "x = numpy.linspace(0, 10)\n",
    "y = x ** 2"
   ]
  },
  {
   "cell_type": "markdown",
   "metadata": {},
   "source": [
    "# Style"
   ]
  },
  {
   "cell_type": "code",
   "execution_count": null,
   "metadata": {},
   "outputs": [],
   "source": [
    "canvas = toyplot.Canvas(width=300, height=300)\n",
    "axes = canvas.cartesian()\n",
    "mark = axes.plot(x, y, style={\"stroke\":\"magenta\", \n",
    "                              \"stroke-dasharray\":\"5, 5\"})"
   ]
  },
  {
   "cell_type": "markdown",
   "metadata": {},
   "source": [
    "# Plotting"
   ]
  },
  {
   "cell_type": "code",
   "execution_count": null,
   "metadata": {},
   "outputs": [],
   "source": [
    "canvas = toyplot.Canvas(width=300, height=300)\n",
    "axes = canvas.cartesian()\n",
    "mark = axes.plot(y)"
   ]
  },
  {
   "cell_type": "markdown",
   "metadata": {},
   "source": [
    "# Multiple Graphs"
   ]
  },
  {
   "cell_type": "code",
   "execution_count": null,
   "metadata": {},
   "outputs": [],
   "source": [
    "x = numpy.linspace(0, 10, 100)\n",
    "y1 = numpy.sin(x)\n",
    "y2 = numpy.cos(x)\n",
    "y3 = numpy.sin(x) + numpy.cos(x)"
   ]
  },
  {
   "cell_type": "code",
   "execution_count": null,
   "metadata": {},
   "outputs": [],
   "source": [
    "canvas = toyplot.Canvas(width=300, height=300)\n",
    "axes = canvas.cartesian()\n",
    "mark1 = axes.plot(x, y1)\n",
    "mark2 = axes.plot(x, y2)\n",
    "mark3 = axes.plot(x, y3)"
   ]
  },
  {
   "cell_type": "code",
   "execution_count": null,
   "metadata": {},
   "outputs": [],
   "source": [
    "canvas = toyplot.Canvas(width=300, height=300)\n",
    "axes = canvas.cartesian()\n",
    "mark1 = axes.plot(x, y1, style={\"stroke-width\":1,\n",
    "                                \"stroke-opacity\":0.6})\n",
    "mark2 = axes.plot(x, y2, style={\"stroke-width\":1,\n",
    "                                \"stroke-opacity\":0.6})\n",
    "mark3 = axes.plot(x, y3, style={\"stroke\":\"blue\"})"
   ]
  },
  {
   "cell_type": "markdown",
   "metadata": {},
   "source": [
    "# Color Palette"
   ]
  },
  {
   "cell_type": "code",
   "execution_count": null,
   "metadata": {},
   "outputs": [],
   "source": [
    "import toyplot.color\n",
    "toyplot.color.Palette()"
   ]
  },
  {
   "cell_type": "markdown",
   "metadata": {},
   "source": [
    "# Filled Regions"
   ]
  },
  {
   "cell_type": "code",
   "execution_count": null,
   "metadata": {},
   "outputs": [],
   "source": [
    "numpy.random.seed(1234)\n",
    "observations = numpy.random.normal(size=(50, 50))\n",
    "\n",
    "x = numpy.linspace(0, 1, len(observations))\n",
    "y1 = numpy.min(observations, axis=1)\n",
    "y2 = numpy.max(observations, axis=1)"
   ]
  },
  {
   "cell_type": "code",
   "execution_count": null,
   "metadata": {},
   "outputs": [],
   "source": [
    "canvas = toyplot.Canvas(width=400, height=300)\n",
    "axes = canvas.cartesian()\n",
    "mark = axes.fill(x, y1, y2)"
   ]
  },
  {
   "cell_type": "markdown",
   "metadata": {},
   "source": [
    "# Applying Styles"
   ]
  },
  {
   "cell_type": "code",
   "execution_count": null,
   "metadata": {},
   "outputs": [],
   "source": [
    "style={\"fill\":\"steelblue\", \n",
    "       \"fill-opacity\":0.5, \n",
    "       \"stroke\":toyplot.color.black}\n",
    "canvas = toyplot.Canvas(width=400, height=300)\n",
    "axes = canvas.cartesian()\n",
    "mark = axes.fill(x, y1, y2, style=style)"
   ]
  },
  {
   "cell_type": "markdown",
   "metadata": {},
   "source": [
    "# Ommitting Boundaries"
   ]
  },
  {
   "cell_type": "code",
   "execution_count": null,
   "metadata": {},
   "outputs": [],
   "source": [
    "canvas = toyplot.Canvas(width=400, \n",
    "                        height=300)\n",
    "axes = canvas.cartesian()\n",
    "mark = axes.fill(x, y2)"
   ]
  },
  {
   "cell_type": "code",
   "execution_count": null,
   "metadata": {},
   "outputs": [],
   "source": [
    "canvas = toyplot.Canvas(width=400, \n",
    "                        height=300)\n",
    "axes = canvas.cartesian()\n",
    "mark = axes.fill(y2)"
   ]
  },
  {
   "cell_type": "markdown",
   "metadata": {},
   "source": [
    "# Multiple Set of Boundaries"
   ]
  },
  {
   "cell_type": "code",
   "execution_count": null,
   "metadata": {},
   "outputs": [],
   "source": [
    "boundaries = numpy.column_stack(\n",
    "    (numpy.min(observations, axis=1),\n",
    "     numpy.percentile(observations, \n",
    "                      25, axis=1),\n",
    "     numpy.percentile(observations, \n",
    "                      50, axis=1),\n",
    "     numpy.percentile(observations, \n",
    "                      75, axis=1),\n",
    "     numpy.max(observations, axis=1)))"
   ]
  },
  {
   "cell_type": "code",
   "execution_count": null,
   "metadata": {},
   "outputs": [],
   "source": [
    "canvas = toyplot.Canvas(width=400, height=300)\n",
    "axes = canvas.cartesian()\n",
    "mark = axes.fill(boundaries)"
   ]
  },
  {
   "cell_type": "code",
   "execution_count": null,
   "metadata": {},
   "outputs": [],
   "source": [
    "canvas = toyplot.Canvas(width=400, height=300)\n",
    "axes = canvas.cartesian()\n",
    "mark = axes.fill(boundaries, \n",
    "                 style={\"fill\":\"steelblue\", \n",
    "                        \"stroke\":\"white\"})"
   ]
  },
  {
   "cell_type": "code",
   "execution_count": null,
   "metadata": {},
   "outputs": [],
   "source": [
    "canvas = toyplot.Canvas(width=400, \n",
    "                        height=300)\n",
    "axes = canvas.cartesian()\n",
    "mark = axes.fill(boundaries, \n",
    "                 color=\"steelblue\", \n",
    "                 style={\"stroke\":\"white\"})"
   ]
  },
  {
   "cell_type": "markdown",
   "metadata": {},
   "source": [
    "# Assigning Colors to boundary regions"
   ]
  },
  {
   "cell_type": "code",
   "execution_count": null,
   "metadata": {},
   "outputs": [],
   "source": [
    "color = [\"red\", \"green\", \n",
    "         \"blue\", \"yellow\"]\n",
    "canvas = toyplot.Canvas(width=400, \n",
    "                        height=300)\n",
    "axes = canvas.cartesian()\n",
    "mark = axes.fill(boundaries, \n",
    "                 color=color, \n",
    "                 style={\"stroke\":toyplot.color.black})"
   ]
  },
  {
   "cell_type": "code",
   "execution_count": null,
   "metadata": {},
   "outputs": [],
   "source": [
    "color = [\"blue\", \"blue\", \n",
    "         \"red\", \"red\"]\n",
    "opacity = [0.1, 0.2, \n",
    "           0.2, 0.1]\n",
    "title = [\"1st Quartile\", \n",
    "         \"2nd Quartile\", \n",
    "         \"3rd Quartile\", \n",
    "         \"4th Quartile\"]"
   ]
  },
  {
   "cell_type": "code",
   "execution_count": null,
   "metadata": {},
   "outputs": [],
   "source": [
    "style={\"stroke\":toyplot.color.black}\n",
    "canvas = toyplot.Canvas(width=400, \n",
    "                        height=300)\n",
    "axes = canvas.cartesian()\n",
    "mark = axes.fill(boundaries, color=color, \n",
    "                 opacity=opacity, \n",
    "                 title=title, \n",
    "                 style=style)"
   ]
  },
  {
   "cell_type": "markdown",
   "metadata": {},
   "source": [
    "# Barplots"
   ]
  },
  {
   "cell_type": "code",
   "execution_count": null,
   "metadata": {},
   "outputs": [],
   "source": [
    "heights = numpy.linspace(1, 10, 10) ** 2"
   ]
  },
  {
   "cell_type": "code",
   "execution_count": null,
   "metadata": {},
   "outputs": [],
   "source": [
    "canvas = toyplot.Canvas(width=300, \n",
    "                        height=300)\n",
    "axes = canvas.cartesian()\n",
    "mark = axes.bars(heights)"
   ]
  },
  {
   "cell_type": "code",
   "execution_count": null,
   "metadata": {},
   "outputs": [],
   "source": [
    "x = numpy.linspace(-2, 2, 20)\n",
    "y = 5 - (x ** 2)\n",
    "\n",
    "canvas = toyplot.Canvas(width=300, \n",
    "                        height=300)\n",
    "axes = canvas.cartesian()\n",
    "mark = axes.bars(x, y)"
   ]
  },
  {
   "cell_type": "markdown",
   "metadata": {},
   "source": [
    "# Barplot of Normal Distribution"
   ]
  },
  {
   "cell_type": "code",
   "execution_count": null,
   "metadata": {},
   "outputs": [],
   "source": [
    "numpy.random.seed(1234)\n",
    "population = numpy.random.normal(size = 10000)"
   ]
  },
  {
   "cell_type": "code",
   "execution_count": null,
   "metadata": {},
   "outputs": [],
   "source": [
    "canvas = toyplot.Canvas(width=300, \n",
    "                        height=300)\n",
    "axes = canvas.cartesian()\n",
    "bars = axes.bars(numpy.histogram(population, 20))"
   ]
  },
  {
   "cell_type": "markdown",
   "metadata": {},
   "source": [
    "# Stack Multiple Items"
   ]
  },
  {
   "cell_type": "code",
   "execution_count": null,
   "metadata": {},
   "outputs": [],
   "source": [
    "heights1 = numpy.linspace(1, 10, 10) ** 1.1\n",
    "heights2 = numpy.linspace(1, 10, 10) ** 1.2\n",
    "heights3 = numpy.linspace(1, 10, 10) ** 1.3\n",
    "heights4 = numpy.linspace(1, 10, 10) ** 1.4\n",
    "heights = numpy.column_stack((heights1, heights2,\n",
    "                              heights3, heights4))"
   ]
  },
  {
   "cell_type": "code",
   "execution_count": null,
   "metadata": {},
   "outputs": [],
   "source": [
    "canvas = toyplot.Canvas(width=300, \n",
    "                        height=300)\n",
    "axes = canvas.cartesian()\n",
    "mark = axes.bars(heights)"
   ]
  },
  {
   "cell_type": "code",
   "execution_count": null,
   "metadata": {},
   "outputs": [],
   "source": [
    "color = [\"red\", \"green\", \n",
    "         \"blue\", \"yellow\"]\n",
    "title = [\"Series 1\", \"Series 2\", \n",
    "         \"Series 3\", \"Series 4\"]\n",
    "style = {\"stroke\":toyplot.color.black}"
   ]
  },
  {
   "cell_type": "code",
   "execution_count": null,
   "metadata": {},
   "outputs": [],
   "source": [
    "canvas = toyplot.Canvas(width=300, \n",
    "                        height=300)\n",
    "axes = canvas.cartesian()\n",
    "bars = axes.bars(heights, color=color, \n",
    "                 title=title, style=style)"
   ]
  },
  {
   "cell_type": "code",
   "execution_count": null,
   "metadata": {},
   "outputs": [],
   "source": [
    "color = numpy.random.random(heights.shape)\n",
    "colormap = toyplot.color.diverging.map(\"BlueRed\")"
   ]
  },
  {
   "cell_type": "code",
   "execution_count": null,
   "metadata": {},
   "outputs": [],
   "source": [
    "canvas = toyplot.Canvas(width=300, \n",
    "                        height=300)\n",
    "axes = canvas.cartesian()\n",
    "bars = axes.bars(heights, \n",
    "                 color=(color, colormap), \n",
    "                 title=color, \n",
    "                 style=style)"
   ]
  },
  {
   "cell_type": "markdown",
   "metadata": {},
   "source": [
    "# Scatterplots"
   ]
  },
  {
   "cell_type": "code",
   "execution_count": null,
   "metadata": {},
   "outputs": [],
   "source": [
    "x = numpy.linspace(0, 2 * numpy.pi)\n",
    "y1 = numpy.sin(x)\n",
    "y2 = numpy.cos(x)"
   ]
  },
  {
   "cell_type": "code",
   "execution_count": null,
   "metadata": {},
   "outputs": [],
   "source": [
    "canvas = toyplot.Canvas(width=500, \n",
    "                        height=300)\n",
    "axes = canvas.cartesian()\n",
    "mark = axes.scatterplot(x, y1)"
   ]
  },
  {
   "cell_type": "code",
   "execution_count": null,
   "metadata": {},
   "outputs": [],
   "source": [
    "canvas = toyplot.Canvas(width=500, \n",
    "                        height=300)\n",
    "axes = canvas.cartesian()\n",
    "mark = axes.scatterplot(y1)"
   ]
  },
  {
   "cell_type": "code",
   "execution_count": null,
   "metadata": {},
   "outputs": [],
   "source": [
    "series = numpy.column_stack((y1, y2))\n",
    "canvas = toyplot.Canvas(width=500, \n",
    "                        height=300)\n",
    "axes = canvas.cartesian()\n",
    "mark = axes.scatterplot(series)"
   ]
  },
  {
   "cell_type": "code",
   "execution_count": null,
   "metadata": {},
   "outputs": [],
   "source": [
    "color = numpy.random.random(series.shape)\n",
    "palette = toyplot.color.brewer.map(\"Oranges\")\n",
    "size = [16, 9]\n",
    "canvas = toyplot.Canvas(width=500, \n",
    "                        height=300)\n",
    "axes = canvas.cartesian()\n",
    "mark = axes.scatterplot(series, \n",
    "                        color=(color, \n",
    "                               palette), \n",
    "                        size=size)"
   ]
  },
  {
   "cell_type": "markdown",
   "metadata": {},
   "source": [
    "# Markers"
   ]
  },
  {
   "cell_type": "code",
   "execution_count": null,
   "metadata": {},
   "outputs": [],
   "source": [
    "mstyle={\"stroke\":toyplot.color.black}\n",
    "canvas = toyplot.Canvas(width=500, \n",
    "                        height=300)\n",
    "axes = canvas.cartesian()\n",
    "mark = axes.scatterplot(series, size=10, \n",
    "                        marker=[\"^\", \"o\"], \n",
    "                        mstyle=mstyle)"
   ]
  },
  {
   "cell_type": "code",
   "execution_count": null,
   "metadata": {},
   "outputs": [],
   "source": [
    "marker = [\n",
    "    toyplot.marker.create(shape=\"o\",\n",
    "                          label=\"1\"),\n",
    "    toyplot.marker.create(shape=\"o\",\n",
    "                          label=\"2\"),\n",
    "    ]\n",
    "mlstyle = {\"fill\":\"white\"}"
   ]
  },
  {
   "cell_type": "code",
   "execution_count": null,
   "metadata": {},
   "outputs": [],
   "source": [
    "canvas = toyplot.Canvas(width=500, height=300)\n",
    "axes = canvas.cartesian()\n",
    "mark = axes.scatterplot(series, size=15, \n",
    "                        marker=marker, \n",
    "                        mstyle=mstyle, \n",
    "                        mlstyle=mlstyle)"
   ]
  },
  {
   "cell_type": "markdown",
   "metadata": {},
   "source": [
    "# Plots Revisited"
   ]
  },
  {
   "cell_type": "code",
   "execution_count": null,
   "metadata": {},
   "outputs": [],
   "source": [
    "x = numpy.linspace(0, 10, 100)\n",
    "y1 = numpy.sin(x)\n",
    "y2 = numpy.cos(x)\n",
    "y3 = numpy.sin(x) + numpy.cos(x)\n",
    "series = numpy.column_stack((y1, y2, y3))"
   ]
  },
  {
   "cell_type": "code",
   "execution_count": null,
   "metadata": {},
   "outputs": [],
   "source": [
    "canvas = toyplot.Canvas(width=600, \n",
    "                        height=300)\n",
    "axes = canvas.cartesian()\n",
    "mark = axes.plot(x, series)"
   ]
  },
  {
   "cell_type": "markdown",
   "metadata": {},
   "source": [
    "# Axes"
   ]
  },
  {
   "cell_type": "code",
   "execution_count": null,
   "metadata": {},
   "outputs": [],
   "source": [
    "canvas = toyplot.Canvas(600, 300)\n",
    "axes = canvas.cartesian(grid=(1, 2, 0))\n",
    "mark = axes.plot(x, y1)\n",
    "axes = canvas.cartesian(grid=(1, 2, 1))\n",
    "mark = axes.plot(x, y2)"
   ]
  },
  {
   "cell_type": "code",
   "execution_count": null,
   "metadata": {},
   "outputs": [],
   "source": [
    "canvas = toyplot.Canvas(300, 300)\n",
    "axes = canvas.cartesian(label=\"Toyplot User Growth\", \n",
    "                        xlabel=\"Days\", ylabel=\"Users\")\n",
    "mark = axes.plot(x, 40 + x ** 2)"
   ]
  },
  {
   "cell_type": "code",
   "execution_count": null,
   "metadata": {},
   "outputs": [],
   "source": [
    "canvas = toyplot.Canvas(300, 300)\n",
    "axes = canvas.cartesian(label=\"Toyplot User Growth\", \n",
    "                        xlabel=\"Days\", ylabel=\"Users\", \n",
    "                        ymin=0)\n",
    "mark = axes.plot(x, 40 + x ** 2)"
   ]
  },
  {
   "cell_type": "code",
   "execution_count": null,
   "metadata": {},
   "outputs": [],
   "source": [
    "x = numpy.linspace(-1000, 1000)\n",
    "toyplot.plot(x, x, marker=\"o\", \n",
    "             xscale=\"linear\", \n",
    "             yscale=\"log\", \n",
    "             width=500)"
   ]
  },
  {
   "cell_type": "markdown",
   "metadata": {},
   "source": [
    "# Animation"
   ]
  },
  {
   "cell_type": "code",
   "execution_count": null,
   "metadata": {},
   "outputs": [],
   "source": [
    "x = numpy.random.normal(size=100)\n",
    "y = numpy.random.normal(size=len(x))"
   ]
  },
  {
   "cell_type": "code",
   "execution_count": null,
   "metadata": {},
   "outputs": [],
   "source": [
    "canvas = toyplot.Canvas(300, 300)\n",
    "axes = canvas.cartesian()\n",
    "mark = axes.scatterplot(x, y, size=10)"
   ]
  },
  {
   "cell_type": "code",
   "execution_count": null,
   "metadata": {},
   "outputs": [],
   "source": [
    "canvas = toyplot.Canvas(300, 300)\n",
    "axes = canvas.cartesian()\n",
    "mark = axes.scatterplot(x, y, size=10)\n",
    "\n",
    "for frame in canvas.frames(len(x) + 1):\n",
    "    if frame.number == 0:\n",
    "        for i in range(len(x)):\n",
    "            frame.set_datum_style(mark, 0, i, \n",
    "                                  style={\"opacity\":0.1})\n",
    "    else:\n",
    "        frame.set_datum_style(mark, 0, \n",
    "                              frame.number - 1, \n",
    "                              style={\"opacity\":1.0})"
   ]
  },
  {
   "cell_type": "code",
   "execution_count": null,
   "metadata": {},
   "outputs": [],
   "source": []
  }
 ],
 "metadata": {
  "kernelspec": {
   "display_name": "Python 3",
   "language": "python",
   "name": "python3"
  },
  "language_info": {
   "codemirror_mode": {
    "name": "ipython",
    "version": 3
   },
   "file_extension": ".py",
   "mimetype": "text/x-python",
   "name": "python",
   "nbconvert_exporter": "python",
   "pygments_lexer": "ipython3",
   "version": "3.7.3"
  }
 },
 "nbformat": 4,
 "nbformat_minor": 2
}
